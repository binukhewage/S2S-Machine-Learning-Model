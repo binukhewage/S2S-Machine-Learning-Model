{
 "cells": [
  {
   "cell_type": "code",
   "execution_count": null,
   "id": "23d80482-6d3f-4a69-967e-149ac5361e5a",
   "metadata": {},
   "outputs": [],
   "source": [
    "import os\n",
    "import cv2\n",
    "import time\n",
    "import uuid"
   ]
  },
  {
   "cell_type": "code",
   "execution_count": 1,
   "id": "63b4c97a",
   "metadata": {},
   "outputs": [],
   "source": [
    "IMAGES_PATH = 'Data'"
   ]
  },
  {
   "cell_type": "code",
   "execution_count": null,
   "id": "2a66878a",
   "metadata": {},
   "outputs": [],
   "source": []
  }
 ],
 "metadata": {
  "kernelspec": {
   "display_name": "Python 3 (ipykernel)",
   "language": "python",
   "name": "python3"
  },
  "language_info": {
   "codemirror_mode": {
    "name": "ipython",
    "version": 3
   },
   "file_extension": ".py",
   "mimetype": "text/x-python",
   "name": "python",
   "nbconvert_exporter": "python",
   "pygments_lexer": "ipython3",
   "version": "3.12.2"
  }
 },
 "nbformat": 4,
 "nbformat_minor": 5
}
