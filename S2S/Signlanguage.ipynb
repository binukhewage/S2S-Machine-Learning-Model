{
 "cells": [
  {
   "cell_type": "code",
   "execution_count": 40,
   "id": "23d80482-6d3f-4a69-967e-149ac5361e5a",
   "metadata": {},
   "outputs": [],
   "source": [
    "import os\n",
    "import cv2\n",
    "import time\n",
    "import uuid \n",
    "import tensorflow as tf\n",
    "import pandas as pd\n",
    "from PIL import Image\n",
    "\n",
    "\n",
    "\n",
    " "
   ]
  },
  {
   "cell_type": "code",
   "execution_count": 41,
   "id": "63b4c97a",
   "metadata": {},
   "outputs": [],
   "source": [
    "#IMAGES_PATH ='Data'\n",
    "\n",
    "#ANNOTATION_PATH = 'Annotations'\n",
    "\n",
    "# Define paths\n",
    "WORKSPACE_PATH = 'Tensorflow/workspace'\n",
    "SCRIPTS_PATH = 'Tensorflow/scripts'\n",
    "APIMODEL_PATH = 'Tensorflow/models'\n",
    "ANNOTATION_PATH = WORKSPACE_PATH + '/annotations'\n",
    "IMAGE_PATH = WORKSPACE_PATH + '/images'\n",
    "MODEL_PATH = WORKSPACE_PATH + '/models'\n",
    "PRETRAINED_MODEL_PATH = WORKSPACE_PATH + '/pre-trained-models'\n",
    "CONFIG_PATH = MODEL_PATH + '/my_ssd_mobnet/pipeline.config'\n",
    "CHECKPOINT_PATH = MODEL_PATH + '/my_ssd_mobnet/'"
   ]
  },
  {
   "cell_type": "code",
   "execution_count": 42,
   "id": "7de51d26",
   "metadata": {},
   "outputs": [],
   "source": [
    "# Create directories if they don't exist\n",
    "directories = [WORKSPACE_PATH, SCRIPTS_PATH, APIMODEL_PATH, IMAGE_PATH, MODEL_PATH, PRETRAINED_MODEL_PATH, CONFIG_PATH, CHECKPOINT_PATH]\n",
    "\n",
    "for directory in directories:\n",
    "    if not os.path.exists(directory):\n",
    "        os.makedirs(directory)"
   ]
  },
  {
   "cell_type": "code",
   "execution_count": 43,
   "id": "2a66878a",
   "metadata": {},
   "outputs": [],
   "source": [
    "labels = ['0','1']\n",
    "number_imgs = 15"
   ]
  },
  {
   "cell_type": "code",
   "execution_count": null,
   "id": "73e7797a",
   "metadata": {},
   "outputs": [],
   "source": [
    "for label in labels:\n",
    "    label_path = os.path.join(IMAGE_PATH, label)\n",
    "    if not os.path.exists(label_path):\n",
    "        os.mkdir(label_path)\n",
    "    else:\n",
    "        print(f\"Directory '{label_path}' already exists.\")\n",
    "        \n",
    "    cap = cv2.VideoCapture(1)\n",
    "    print('Collecting images for {}'.format(label))\n",
    "    time.sleep(5)\n",
    "    for imgnum in range(number_imgs):\n",
    "        ret, frame = cap.read()\n",
    "        imgname = os.path.join(IMAGE_PATH, label, label + '.' + '{}.jpg'.format(str(uuid.uuid1())))\n",
    "        cv2.imwrite(imgname, frame)\n",
    "        cv2.imshow('frame', frame)\n",
    "        time.sleep(2)\n",
    "        \n",
    "        if cv2.waitKey(1) & 0xFF == ord('q'):\n",
    "            break\n",
    "    cap.release()\n",
    "    time.sleep(10) \n",
    "    #done for the day"
   ]
  },
  {
   "cell_type": "code",
   "execution_count": null,
   "id": "8a1a874d",
   "metadata": {},
   "outputs": [],
   "source": [
    "labels = [{'name':'0', 'id':1}, {'name':'1', 'id':2}]\n",
    "\n",
    "with open(ANNOTATION_PATH + '/label_map.pbtxt', 'w') as f:\n",
    "    for label in labels:\n",
    "        f.write('item { \\n')\n",
    "        f.write('\\tname:\\'{}\\'\\n'.format(label['name']))\n",
    "        f.write('\\tid:{}\\n'.format(label['id']))\n",
    "        f.write('}\\n')"
   ]
  },
  {
   "cell_type": "code",
   "execution_count": 1,
   "id": "b350612a",
   "metadata": {},
   "outputs": [
    {
     "name": "stdout",
     "output_type": "stream",
     "text": [
      "fatal: destination path '{SCRIPTS_PATH}' already exists and is not an empty directory.\n"
     ]
    }
   ],
   "source": [
    "# Define the SCRIPTS_PATH variable\n",
    "SCRIPTS_PATH1 = \"S2S_ML_MODEL_1/SCRIPTS_PATH\"\n",
    "\n",
    "\n",
    "# Construct the path to the tf_record script\n",
    "TF_RECORD_SCRIPT = os.path.join(SCRIPTS_PATH1, 'generate_tfrecord.py')\n",
    "\n",
    "# Check if the script exists\n",
    "if not os.path.exists(TF_RECORD_SCRIPT):\n",
    "    \n",
    "    \n",
    "    # If the script doesn't exist, clone it from GitHub\n",
    "    !git clone https://github.com/nicknochnack/GenerateTFRecord {SCRIPTS_PATH}"
   ]
  },
  {
   "cell_type": "code",
   "execution_count": null,
   "id": "c2d93016",
   "metadata": {},
   "outputs": [],
   "source": []
  },
  {
   "cell_type": "code",
   "execution_count": 3,
   "id": "c0a387f5",
   "metadata": {},
   "outputs": [
    {
     "name": "stdout",
     "output_type": "stream",
     "text": [
      "S2S_ML_MODEL_1/SCRIPTS_PATH\n",
      "/Users/binukhewage/SDGP/S2S_ML_Model_1/.venv/lib/python3.9/site-packages/urllib3/__init__.py:35: NotOpenSSLWarning: urllib3 v2 only supports OpenSSL 1.1.1+, currently the 'ssl' module is compiled with 'LibreSSL 2.8.3'. See: https://github.com/urllib3/urllib3/issues/3020\n",
      "  warnings.warn(\n",
      "Traceback (most recent call last):\n",
      "  File \"/Users/binukhewage/SDGP/S2S_ML_Model_1/S2S/SCRIPTS_PATH/generate_tfrecord.py\", line 29, in <module>\n",
      "    from object_detection.utils import dataset_util, label_map_util\n",
      "  File \"/Users/binukhewage/SDGP/S2S_ML_Model_1/.venv/lib/python3.9/site-packages/object_detection/utils/label_map_util.py\", line 21, in <module>\n",
      "    from object_detection.protos import string_int_label_map_pb2\n",
      "ImportError: cannot import name 'string_int_label_map_pb2' from 'object_detection.protos' (/Users/binukhewage/SDGP/S2S_ML_Model_1/.venv/lib/python3.9/site-packages/object_detection/protos/__init__.py)\n",
      "/Users/binukhewage/SDGP/S2S_ML_Model_1/.venv/lib/python3.9/site-packages/urllib3/__init__.py:35: NotOpenSSLWarning: urllib3 v2 only supports OpenSSL 1.1.1+, currently the 'ssl' module is compiled with 'LibreSSL 2.8.3'. See: https://github.com/urllib3/urllib3/issues/3020\n",
      "  warnings.warn(\n",
      "Traceback (most recent call last):\n",
      "  File \"/Users/binukhewage/SDGP/S2S_ML_Model_1/S2S/SCRIPTS_PATH/generate_tfrecord.py\", line 29, in <module>\n",
      "    from object_detection.utils import dataset_util, label_map_util\n",
      "  File \"/Users/binukhewage/SDGP/S2S_ML_Model_1/.venv/lib/python3.9/site-packages/object_detection/utils/label_map_util.py\", line 21, in <module>\n",
      "    from object_detection.protos import string_int_label_map_pb2\n",
      "ImportError: cannot import name 'string_int_label_map_pb2' from 'object_detection.protos' (/Users/binukhewage/SDGP/S2S_ML_Model_1/.venv/lib/python3.9/site-packages/object_detection/protos/__init__.py)\n"
     ]
    }
   ],
   "source": [
    "print(SCRIPTS_PATH1)\n",
    "!python3 /Users/binukhewage/SDGP/S2S_ML_Model_1/S2S/SCRIPTS_PATH/generate_tfrecord.py -x \"${IMAGE_PATH}/train\" -l \"${ANNOTATION_PATH}/label_map.pbtxt\" -o \"${ANNOTATION_PATH}/train.record\"\n",
    "!python3 /Users/binukhewage/SDGP/S2S_ML_Model_1/S2S/SCRIPTS_PATH/generate_tfrecord.py -x \"${IMAGE_PATH}/test\" -l \"${ANNOTATION_PATH}/label_map.pbtxt\" -o \"${ANNOTATION_PATH}/test.record\""
   ]
  },
  {
   "cell_type": "code",
   "execution_count": null,
   "id": "da5553e8",
   "metadata": {},
   "outputs": [
    {
     "name": "stdout",
     "output_type": "stream",
     "text": [
      "fatal: destination path 'models' already exists and is not an empty directory.\n"
     ]
    }
   ],
   "source": [
    "!cd Tensorflow && git clone https://github.com/tensorflow/models\n"
   ]
  },
  {
   "cell_type": "code",
   "execution_count": null,
   "id": "e01ed3cf",
   "metadata": {},
   "outputs": [],
   "source": []
  }
 ],
 "metadata": {
  "kernelspec": {
   "display_name": "Python 3",
   "language": "python",
   "name": "python3"
  },
  "language_info": {
   "codemirror_mode": {
    "name": "ipython",
    "version": 3
   },
   "file_extension": ".py",
   "mimetype": "text/x-python",
   "name": "python",
   "nbconvert_exporter": "python",
   "pygments_lexer": "ipython3",
   "version": "3.9.6 (default, Oct  1 2023, 17:38:10) \n[Clang 15.0.0 (clang-1500.0.40.1)]"
  },
  "vscode": {
   "interpreter": {
    "hash": "8a5edab282632443219e051e4ade2d1d5bbc671c781051bf1437897cbdfea0f1"
   }
  }
 },
 "nbformat": 4,
 "nbformat_minor": 5
}
